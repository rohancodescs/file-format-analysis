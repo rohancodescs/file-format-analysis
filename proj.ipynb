{
 "cells": [
  {
   "cell_type": "code",
   "execution_count": null,
   "id": "d1692538",
   "metadata": {},
   "outputs": [
    {
     "name": "stdout",
     "output_type": "stream",
     "text": [
      "DONE row-group 1/169  |  elapsed 0.0 min\n",
      "DONE row-group 2/169  |  elapsed 0.0 min\n",
      "DONE row-group 3/169  |  elapsed 0.0 min\n",
      "DONE row-group 4/169  |  elapsed 0.0 min\n",
      "DONE row-group 5/169  |  elapsed 0.0 min\n",
      "DONE row-group 6/169  |  elapsed 0.0 min\n",
      "DONE row-group 7/169  |  elapsed 0.0 min\n",
      "DONE row-group 8/169  |  elapsed 2.0 min\n",
      "DONE row-group 9/169  |  elapsed 2.0 min\n",
      "DONE row-group 10/169  |  elapsed 2.0 min\n",
      "DONE row-group 11/169  |  elapsed 2.0 min\n",
      "DONE row-group 12/169  |  elapsed 4.0 min\n",
      "DONE row-group 13/169  |  elapsed 4.0 min\n",
      "DONE row-group 14/169  |  elapsed 4.0 min\n",
      "DONE row-group 15/169  |  elapsed 4.0 min\n",
      "DONE row-group 16/169  |  elapsed 5.9 min\n",
      "DONE row-group 17/169  |  elapsed 5.9 min\n",
      "DONE row-group 18/169  |  elapsed 5.9 min\n",
      "DONE row-group 19/169  |  elapsed 5.9 min\n",
      "DONE row-group 20/169  |  elapsed 7.8 min\n",
      "DONE row-group 21/169  |  elapsed 7.8 min\n",
      "DONE row-group 22/169  |  elapsed 7.8 min\n",
      "DONE row-group 23/169  |  elapsed 7.8 min\n"
     ]
    }
   ],
   "source": [
    "import pyarrow.parquet as pq, pandas as pd, numpy as np, gc, time\n",
    "from pathlib import Path\n",
    "import os\n",
    "import tables\n",
    "tables.parameters.MAX_BLOSC_THREADS = os.cpu_count()  # enable Blosc threads to use all cpu cores for decompression\n",
    "#source / destination files\n",
    "IN_PARQUET = Path(\"data.parquet\")\n",
    "OUT_H5 = Path(\"datacomplevel1.h5\")\n",
    "\n",
    "#open parquet file and getting how many row groups we need to stream\n",
    "pq_file = pq.ParquetFile(IN_PARQUET, memory_map=True) # zero copy i/o data\n",
    "num_row_groups = pq_file.num_row_groups\n",
    "\n",
    "#iterating through the row groups and writing to hdf5\n",
    "t0 = time.time()\n",
    "# \"w\" -> create / overwrite HDF5 file\n",
    "# \"blosc:zstd\" -> compression algorithm, its a faster multithreaded codec\n",
    "# \"6\" -> compression level (0-9), 1 being fastest but minimal compression, 9 being slowest and highest compression\n",
    "buf = []\n",
    "with pd.HDFStore(OUT_H5, \"w\", complib=\"blosc:zstd\", complevel=1) as s:\n",
    "    for i in range(num_row_groups):\n",
    "        #loading one row group into pandas df\n",
    "        df = pq_file.read_row_group(i).to_pandas()\n",
    "        #storing column as fixed width bytes \n",
    "        df[\"line_ID\"] = df[\"line_ID\"].apply(bytes.hex)\n",
    "        # normalizing / forcing the label columns to use signed Int8 and use –1 for “missing”\n",
    "        for col in [\"target\", \"test\"]:\n",
    "            df[col] = df[col].fillna(-1).astype(np.int8)\n",
    "        #staging the chunk\n",
    "        buf.append(df)\n",
    "        #when the buffer holds 4 row groups OR its the last row group, write to hdf5\n",
    "        if len(buf) == 4 or i == num_row_groups - 1:\n",
    "            #train being HDF5 table node\n",
    "            s.append(\"train\", df, data_columns=True, index=False) \n",
    "            df = pd.concat(buf, ignore_index=True)\n",
    "            buf.clear() #freeing batch memory\n",
    "        # del df\n",
    "        # gc.collect()\n",
    "        elapsed = time.time() - t0\n",
    "        print(f\"DONE row-group {i+1}/{num_row_groups}  |  elapsed {elapsed/60:.1f} min\")\n",
    "\n",
    "#printing the total time taken to convert\n",
    "total = time.time() - t0\n",
    "print(f\"\\nParquet → HDF5 completed in {total/60:.1f} minutes\")"
   ]
  },
  {
   "cell_type": "code",
   "execution_count": null,
   "id": "3fcaae0c",
   "metadata": {},
   "outputs": [],
   "source": []
  }
 ],
 "metadata": {
  "kernelspec": {
   "display_name": "Python 3",
   "language": "python",
   "name": "python3"
  },
  "language_info": {
   "codemirror_mode": {
    "name": "ipython",
    "version": 3
   },
   "file_extension": ".py",
   "mimetype": "text/x-python",
   "name": "python",
   "nbconvert_exporter": "python",
   "pygments_lexer": "ipython3",
   "version": "3.9.6"
  }
 },
 "nbformat": 4,
 "nbformat_minor": 5
}
